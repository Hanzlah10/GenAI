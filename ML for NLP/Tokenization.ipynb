{
  "cells": [
    {
      "cell_type": "code",
      "execution_count": 6,
      "metadata": {
        "colab": {
          "base_uri": "https://localhost:8080/"
        },
        "id": "kcyF50ikPYyt",
        "outputId": "69a53c9c-c249-421e-fefd-4b3897fb387d"
      },
      "outputs": [
        {
          "name": "stdout",
          "output_type": "stream",
          "text": [
            "Requirement already satisfied: nltk in /usr/local/lib/python3.11/dist-packages (3.9.1)\n",
            "Requirement already satisfied: click in /usr/local/lib/python3.11/dist-packages (from nltk) (8.1.8)\n",
            "Requirement already satisfied: joblib in /usr/local/lib/python3.11/dist-packages (from nltk) (1.4.2)\n",
            "Requirement already satisfied: regex>=2021.8.3 in /usr/local/lib/python3.11/dist-packages (from nltk) (2024.11.6)\n",
            "Requirement already satisfied: tqdm in /usr/local/lib/python3.11/dist-packages (from nltk) (4.67.1)\n"
          ]
        },
        {
          "name": "stderr",
          "output_type": "stream",
          "text": [
            "[nltk_data] Downloading package punkt_tab to /root/nltk_data...\n",
            "[nltk_data]   Unzipping tokenizers/punkt_tab.zip.\n"
          ]
        }
      ],
      "source": [
        "!pip install nltk\n",
        "import nltk\n",
        "nltk.download('punkt_tab')\n",
        "from nltk import sent_tokenize, word_tokenize"
      ]
    },
    {
      "cell_type": "code",
      "execution_count": 7,
      "metadata": {
        "id": "Tqyejv2RMNu_"
      },
      "outputs": [],
      "source": [
        "from nltk import sent_tokenize, word_tokenize\n"
      ]
    },
    {
      "cell_type": "code",
      "execution_count": 15,
      "metadata": {
        "id": "MF6LLYMeMx3V"
      },
      "outputs": [],
      "source": [
        "corpus = ''' Hello , my name is hanzala. I am an undergraduate \"Computer Engineering\" Student. '''"
      ]
    },
    {
      "cell_type": "code",
      "execution_count": 16,
      "metadata": {
        "colab": {
          "base_uri": "https://localhost:8080/"
        },
        "id": "J5ixgHxePKDV",
        "outputId": "5b9cd7cc-e082-4a50-f314-28ad7b937697"
      },
      "outputs": [
        {
          "data": {
            "text/plain": [
              "[' Hello , my name is hanzala.',\n",
              " 'I am an undergraduate \"Computer Engineering\" Student.']"
            ]
          },
          "execution_count": 16,
          "metadata": {},
          "output_type": "execute_result"
        }
      ],
      "source": [
        "document = sent_tokenize(corpus)\n",
        "document"
      ]
    },
    {
      "cell_type": "code",
      "execution_count": 17,
      "metadata": {
        "colab": {
          "base_uri": "https://localhost:8080/"
        },
        "id": "DgIy2-C8PmiQ",
        "outputId": "84b9f0fd-2202-4ee6-87c1-81dc60db053b"
      },
      "outputs": [
        {
          "data": {
            "text/plain": [
              "['Hello',\n",
              " ',',\n",
              " 'my',\n",
              " 'name',\n",
              " 'is',\n",
              " 'hanzala',\n",
              " '.',\n",
              " 'I',\n",
              " 'am',\n",
              " 'an',\n",
              " 'undergraduate',\n",
              " '``',\n",
              " 'Computer',\n",
              " 'Engineering',\n",
              " \"''\",\n",
              " 'Student',\n",
              " '.']"
            ]
          },
          "execution_count": 17,
          "metadata": {},
          "output_type": "execute_result"
        }
      ],
      "source": [
        "words = word_tokenize(corpus)\n",
        "words\n",
        "#the is wordpunct_tokenize(), this separates exactly as word_tokenize but also the apostrophe in the sentence as individual token"
      ]
    },
    {
      "cell_type": "code",
      "execution_count": 18,
      "metadata": {
        "id": "WZS8HGz5PmZe"
      },
      "outputs": [],
      "source": [
        "from nltk import TreebankWordTokenizer"
      ]
    },
    {
      "cell_type": "code",
      "execution_count": 19,
      "metadata": {
        "id": "2IW6SN1RQp_d"
      },
      "outputs": [],
      "source": [
        "tokeniser = TreebankWordTokenizer()"
      ]
    },
    {
      "cell_type": "code",
      "execution_count": 20,
      "metadata": {
        "colab": {
          "base_uri": "https://localhost:8080/"
        },
        "id": "-N3dQP4ZQuVF",
        "outputId": "562ca752-ad04-4e9d-8027-947043b7d105"
      },
      "outputs": [
        {
          "data": {
            "text/plain": [
              "['Hello',\n",
              " ',',\n",
              " 'my',\n",
              " 'name',\n",
              " 'is',\n",
              " 'hanzala.',\n",
              " 'I',\n",
              " 'am',\n",
              " 'an',\n",
              " 'undergraduate',\n",
              " '``',\n",
              " 'Computer',\n",
              " 'Engineering',\n",
              " \"''\",\n",
              " 'Student',\n",
              " '.']"
            ]
          },
          "execution_count": 20,
          "metadata": {},
          "output_type": "execute_result"
        }
      ],
      "source": [
        "tokeniser.tokenize(corpus) #the diff is that it doesn't treats full stop as a new token"
      ]
    }
  ],
  "metadata": {
    "colab": {
      "provenance": []
    },
    "kernelspec": {
      "display_name": "Python 3",
      "name": "python3"
    },
    "language_info": {
      "name": "python"
    }
  },
  "nbformat": 4,
  "nbformat_minor": 0
}
